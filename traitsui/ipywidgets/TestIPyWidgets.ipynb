{
 "cells": [
  {
   "cell_type": "code",
   "execution_count": null,
   "metadata": {},
   "outputs": [],
   "source": [
    "from traits.etsconfig.api import ETSConfig\n",
    "\n",
    "ETSConfig.toolkit = 'ipywidgets'"
   ]
  },
  {
   "cell_type": "code",
   "execution_count": null,
   "metadata": {},
   "outputs": [],
   "source": [
    "from traits.api import HasTraits, Unicode, Bool, Int, Range, Button\n",
    "\n",
    "from traitsui.group import VGroup, Tabbed, VFold, VGrid\n",
    "from traitsui.item import Item\n",
    "from traitsui.view import View\n",
    "from traitsui.ui import UI"
   ]
  },
  {
   "cell_type": "code",
   "execution_count": null,
   "metadata": {},
   "outputs": [],
   "source": [
    "class TestObjInline(HasTraits):\n",
    "    text = Unicode\n",
    "    boolean = Bool\n",
    "    integer = Int\n",
    "    rng = Range(0, 100, 10)\n",
    "    large_range = Range(0.0, 10000000.0, 1.0)\n",
    "    button = Button('Click me!')\n",
    "\n",
    "    view = View(\n",
    "        Tabbed(\n",
    "            VGroup(\n",
    "                Item(label='test'),\n",
    "                Item('text'),\n",
    "                Item('rng'),\n",
    "                Item('large_range'),\n",
    "#                Item('button'),\n",
    "                label=\"Tab 1\",\n",
    "            ),\n",
    "            VGroup(\n",
    "                Item('boolean'),\n",
    "                Item('integer'),\n",
    "                label=\"Tab 2\"\n",
    "            ),\n",
    "        ),\n",
    "    )\n",
    "\n",
    "    def _button_fired(self):\n",
    "        print(\"Clicked\")\n",
    "        self.integer += 1\n",
    "        self.large_range += 1.0"
   ]
  },
  {
   "cell_type": "code",
   "execution_count": null,
   "metadata": {},
   "outputs": [],
   "source": [
    "t1 = TestObjInline()\n",
    "t1"
   ]
  },
  {
   "cell_type": "code",
   "execution_count": null,
   "metadata": {},
   "outputs": [],
   "source": [
    "class TestObj(HasTraits):\n",
    "    text = Unicode\n",
    "    boolean = Bool\n",
    "    integer = Int\n",
    "\n",
    "test_obj = TestObj()\n",
    "    \n",
    "test_view = View(\n",
    "    Tabbed(\n",
    "        VGroup(\n",
    "            Item(label='test'),\n",
    "            Item('text'),\n",
    "            label=\"Tab 1\",\n",
    "        ),\n",
    "        VGroup(\n",
    "            Item('boolean'),\n",
    "            Item('integer'),\n",
    "            label=\"Tab 2\"\n",
    "        ),\n",
    "    ),\n",
    ")\n",
    "ui = test_obj.edit_traits(view=test_view, kind='live')"
   ]
  },
  {
   "cell_type": "code",
   "execution_count": null,
   "metadata": {},
   "outputs": [],
   "source": [
    "print(ui.control)"
   ]
  },
  {
   "cell_type": "code",
   "execution_count": null,
   "metadata": {},
   "outputs": [],
   "source": [
    "t = ui.control\n",
    "t"
   ]
  },
  {
   "cell_type": "code",
   "execution_count": null,
   "metadata": {},
   "outputs": [],
   "source": [
    "test_obj.configure_traits(view=test_view, kind='live')\n"
   ]
  },
  {
   "cell_type": "code",
   "execution_count": null,
   "metadata": {},
   "outputs": [],
   "source": [
    "test_obj.text"
   ]
  },
  {
   "cell_type": "code",
   "execution_count": null,
   "metadata": {},
   "outputs": [],
   "source": [
    "test_obj.text = \"Other way\""
   ]
  },
  {
   "cell_type": "code",
   "execution_count": null,
   "metadata": {},
   "outputs": [],
   "source": [
    "test_obj.boolean"
   ]
  },
  {
   "cell_type": "code",
   "execution_count": null,
   "metadata": {},
   "outputs": [],
   "source": [
    "test_obj.integer"
   ]
  },
  {
   "cell_type": "code",
   "execution_count": null,
   "metadata": {},
   "outputs": [],
   "source": [
    "test_obj.integer = 100"
   ]
  },
  {
   "cell_type": "code",
   "execution_count": null,
   "metadata": {},
   "outputs": [],
   "source": [
    "test_obj.boolean = True"
   ]
  },
  {
   "cell_type": "code",
   "execution_count": null,
   "metadata": {},
   "outputs": [],
   "source": [
    "from ipywidgets import GridBox, Button, ButtonStyle, Layout\n",
    "gb = GridBox(children=[Button(layout=Layout(width='auto', height='auto'),\n",
    "                         style=ButtonStyle(button_color='darkseagreen')) for i in range(9)\n",
    "                 ],\n",
    "        layout=Layout(\n",
    "            width='50%',\n",
    "            grid_template_columns='100px 50px 100px',\n",
    "            grid_template_rows='80px auto 80px',\n",
    "            grid_gap='5px 10px')\n",
    "       )\n",
    "gb"
   ]
  },
  {
   "cell_type": "code",
   "execution_count": null,
   "metadata": {},
   "outputs": [],
   "source": []
  }
 ],
 "metadata": {
  "kernelspec": {
   "display_name": "Python 3",
   "language": "python",
   "name": "python3"
  },
  "language_info": {
   "codemirror_mode": {
    "name": "ipython",
    "version": 3
   },
   "file_extension": ".py",
   "mimetype": "text/x-python",
   "name": "python",
   "nbconvert_exporter": "python",
   "pygments_lexer": "ipython3",
   "version": "3.6.0"
  }
 },
 "nbformat": 4,
 "nbformat_minor": 2
}
